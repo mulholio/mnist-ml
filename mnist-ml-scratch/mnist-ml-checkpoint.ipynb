{
 "cells": [
  {
   "cell_type": "code",
   "execution_count": 1,
   "metadata": {},
   "outputs": [
    {
     "name": "stdout",
     "output_type": "stream",
     "text": [
      "Requirement already satisfied: torch in /usr/local/lib/python3.6/dist-packages (1.1.0)\n",
      "Requirement already satisfied: torchvision in /usr/local/lib/python3.6/dist-packages (0.4.0a0+d31eafa)\n",
      "Requirement already satisfied: pillow in /usr/local/lib/python3.6/dist-packages (6.1.0)\n",
      "Requirement already satisfied: numpy in /usr/local/lib/python3.6/dist-packages (from torch) (1.17.0)\n",
      "Requirement already satisfied: six in /usr/local/lib/python3.6/dist-packages (from torchvision) (1.12.0)\n",
      "\u001b[33mWARNING: You are using pip version 19.2.1, however version 20.2.4 is available.\n",
      "You should consider upgrading via the 'pip install --upgrade pip' command.\u001b[0m\n"
     ]
    }
   ],
   "source": [
    "import sys\n",
    "!{sys.executable} -m pip install torch torchvision pillow"
   ]
  },
  {
   "cell_type": "code",
   "execution_count": 2,
   "metadata": {},
   "outputs": [],
   "source": [
    "from torchvision import datasets, transforms\n",
    "import torch\n",
    "import PIL"
   ]
  },
  {
   "cell_type": "code",
   "execution_count": 3,
   "metadata": {},
   "outputs": [],
   "source": [
    "IMG_SIZE = 28 * 28\n",
    "IS_3 = 0.\n",
    "IS_7 = 1."
   ]
  },
  {
   "cell_type": "code",
   "execution_count": 4,
   "metadata": {},
   "outputs": [],
   "source": [
    "# download and reference dataset\n",
    "mnist_train = datasets.MNIST(download=True, root=\"storage\", train=True)\n",
    "mnist_valid = datasets.MNIST(download=True, root=\"storage\", train=False)"
   ]
  },
  {
   "cell_type": "code",
   "execution_count": 5,
   "metadata": {},
   "outputs": [
    {
     "data": {
      "text/plain": [
       "(12396, 2038)"
      ]
     },
     "execution_count": 5,
     "metadata": {},
     "output_type": "execute_result"
    }
   ],
   "source": [
    "threes_or_sevens_train = [x for x in mnist_train if x[1]==3 or x[1]==7]\n",
    "threes_or_sevens_valid = [x for x in mnist_valid if x[1]==3 or x[1]==7]\n",
    "\n",
    "len(threes_or_sevens_train), len(threes_or_sevens_valid)"
   ]
  },
  {
   "cell_type": "code",
   "execution_count": 6,
   "metadata": {},
   "outputs": [
    {
     "data": {
      "text/plain": [
       "(torch.Size([12396, 784]), torch.Size([2038, 784]))"
      ]
     },
     "execution_count": 6,
     "metadata": {},
     "output_type": "execute_result"
    }
   ],
   "source": [
    "x_train = torch.stack([transforms.ToTensor()(d[0])for d in threes_or_sevens_train]).view(-1, IMG_SIZE)\n",
    "x_valid = torch.stack([transforms.ToTensor()(d[0]) for d in threes_or_sevens_valid]).view(-1, IMG_SIZE)\n",
    "\n",
    "x_train.shape, x_valid.shape"
   ]
  },
  {
   "cell_type": "code",
   "execution_count": 7,
   "metadata": {},
   "outputs": [
    {
     "data": {
      "text/plain": [
       "(torch.Size([12396, 1]), tensor([1.]), tensor([0.]), torch.Size([2038, 1]))"
      ]
     },
     "execution_count": 7,
     "metadata": {},
     "output_type": "execute_result"
    }
   ],
   "source": [
    "y_train = torch.tensor([IS_3 if d[1] == 3 else IS_7 for d in threes_or_sevens_train]).unsqueeze(1)\n",
    "y_valid = torch.tensor([IS_3 if d[1] == 3 else IS_7 for d in threes_or_sevens_valid]).unsqueeze(1)\n",
    "\n",
    "y_train.shape, y_train[3], y_train[0], y_valid.shape"
   ]
  },
  {
   "cell_type": "code",
   "execution_count": 8,
   "metadata": {},
   "outputs": [
    {
     "data": {
      "text/plain": [
       "(torch.Size([784]), tensor([0.]), torch.Size([784]), tensor([1.]))"
      ]
     },
     "execution_count": 8,
     "metadata": {},
     "output_type": "execute_result"
    }
   ],
   "source": [
    "# ds is our Dataset, list of (image, value) tuples\n",
    "train_ds = list(zip(x_train, y_train))\n",
    "valid_ds = list(zip(x_valid, y_valid))\n",
    "\n",
    "train_ds[0][0].shape, train_ds[0][1], valid_ds[0][0].shape, valid_ds[0][1]"
   ]
  },
  {
   "cell_type": "code",
   "execution_count": 9,
   "metadata": {},
   "outputs": [
    {
     "data": {
      "text/plain": [
       "(torch.Size([784]), tensor([0.]), torch.Size([784]), tensor([1.]))"
      ]
     },
     "execution_count": 9,
     "metadata": {},
     "output_type": "execute_result"
    }
   ],
   "source": [
    "# Create the DataLoaders\n",
    "train_dl = torch.utils.data.DataLoader(train_ds, batch_size=256)\n",
    "valid_dl = torch.utils.data.DataLoader(valid_ds, batch_size=256)\n",
    "\n",
    "train_dl.dataset[0][0].shape, train_dl.dataset[0][1], valid_dl.dataset[0][0].shape, valid_dl.dataset[0][1]"
   ]
  },
  {
   "cell_type": "code",
   "execution_count": 10,
   "metadata": {},
   "outputs": [],
   "source": [
    "def init_params(size, variance=1.0):\n",
    "    \"\"\"\n",
    "    Initialisation function for weights and biases\n",
    "    \n",
    "    N.B. Size is an int or sequence of ints to determine the tensor size\n",
    "    \"\"\"\n",
    "    return (torch.randn(size)*variance).requires_grad_()"
   ]
  },
  {
   "cell_type": "code",
   "execution_count": 11,
   "metadata": {},
   "outputs": [
    {
     "data": {
      "text/plain": [
       "(torch.Size([784, 1]), torch.Size([1]))"
      ]
     },
     "execution_count": 11,
     "metadata": {},
     "output_type": "execute_result"
    }
   ],
   "source": [
    "weights = init_params((IMG_SIZE, 1))\n",
    "bias = init_params(1)\n",
    "weights.size(), bias.size()"
   ]
  },
  {
   "cell_type": "code",
   "execution_count": 12,
   "metadata": {},
   "outputs": [],
   "source": [
    "def linear(xb):\n",
    "    return xb@weights + bias # xb.mm(weights).add(bias)"
   ]
  },
  {
   "cell_type": "code",
   "execution_count": 13,
   "metadata": {},
   "outputs": [],
   "source": [
    "def get_loss(predictions, targets):\n",
    "    predictions = predictions.sigmoid()\n",
    "    return torch.where(targets==1, 1-predictions, predictions).mean()"
   ]
  },
  {
   "cell_type": "code",
   "execution_count": 14,
   "metadata": {},
   "outputs": [],
   "source": [
    "def calc_gradient(xb, yb, model):\n",
    "    predictions = model(xb)\n",
    "    loss = get_loss(predictions, yb)\n",
    "    loss.backward()"
   ]
  },
  {
   "cell_type": "code",
   "execution_count": 15,
   "metadata": {},
   "outputs": [],
   "source": [
    "def train_epoch(model, lr, params):\n",
    "    # Iterate over dataset batches\n",
    "    # xb is a tensor with the independent variables for the batch (tensor of pixel values)\n",
    "    # yb         \"\"           dependent             \"\"            (which digit it is)\n",
    "    for xb, yb in train_dl:\n",
    "        calc_gradient(xb, yb, model)\n",
    "        \n",
    "        weights, bias = params\n",
    "\n",
    "        for p in params:\n",
    "            p.data -= p.grad * lr\n",
    "            p.grad.zero_()"
   ]
  },
  {
   "cell_type": "code",
   "execution_count": 16,
   "metadata": {},
   "outputs": [],
   "source": [
    "def batch_accuracy(xb, yb):\n",
    "    preds = xb.sigmoid()\n",
    "    correct = (preds>0.5).float() == yb\n",
    "    return correct.float().mean()"
   ]
  },
  {
   "cell_type": "code",
   "execution_count": 17,
   "metadata": {},
   "outputs": [],
   "source": [
    "def validate_epoch(model):\n",
    "    accuracy = [batch_accuracy(model(xb), yb) for xb, yb in valid_dl]\n",
    "    return round(torch.stack(accuracy).mean().item(), 4)"
   ]
  },
  {
   "cell_type": "code",
   "execution_count": 18,
   "metadata": {},
   "outputs": [
    {
     "name": "stdout",
     "output_type": "stream",
     "text": [
      "====================================================\n",
      "Epoch           : 1\n",
      "weights[0]      : tensor([-0.4711], grad_fn=<SelectBackward>)\n",
      "Epoch Accuracy  : 0.4758\n",
      "====================================================\n",
      "Epoch           : 4\n",
      "weights[0]      : tensor([-0.4490], grad_fn=<SelectBackward>)\n",
      "Epoch Accuracy  : 0.5002\n",
      "====================================================\n",
      "Epoch           : 7\n",
      "weights[0]      : tensor([-0.4493], grad_fn=<SelectBackward>)\n",
      "Epoch Accuracy  : 0.5397\n",
      "====================================================\n",
      "Epoch           : 10\n",
      "weights[0]      : tensor([-0.4456], grad_fn=<SelectBackward>)\n",
      "Epoch Accuracy  : 0.7045\n",
      "====================================================\n",
      "Epoch           : 13\n",
      "weights[0]      : tensor([-0.4185], grad_fn=<SelectBackward>)\n",
      "Epoch Accuracy  : 0.8061\n",
      "====================================================\n",
      "Epoch           : 16\n",
      "weights[0]      : tensor([-0.3954], grad_fn=<SelectBackward>)\n",
      "Epoch Accuracy  : 0.8605\n",
      "====================================================\n",
      "Epoch           : 19\n",
      "weights[0]      : tensor([-0.3789], grad_fn=<SelectBackward>)\n",
      "Epoch Accuracy  : 0.8899\n",
      "====================================================\n",
      "Epoch           : 22\n",
      "weights[0]      : tensor([-0.3656], grad_fn=<SelectBackward>)\n",
      "Epoch Accuracy  : 0.9085\n",
      "====================================================\n",
      "Epoch           : 25\n",
      "weights[0]      : tensor([-0.3555], grad_fn=<SelectBackward>)\n",
      "Epoch Accuracy  : 0.9207\n",
      "====================================================\n",
      "Epoch           : 28\n",
      "weights[0]      : tensor([-0.3482], grad_fn=<SelectBackward>)\n",
      "Epoch Accuracy  : 0.9286\n",
      "====================================================\n",
      "Epoch           : 31\n",
      "weights[0]      : tensor([-0.3436], grad_fn=<SelectBackward>)\n",
      "Epoch Accuracy  : 0.9335\n",
      "====================================================\n",
      "Epoch           : 34\n",
      "weights[0]      : tensor([-0.3410], grad_fn=<SelectBackward>)\n",
      "Epoch Accuracy  : 0.9374\n",
      "====================================================\n",
      "Epoch           : 37\n",
      "weights[0]      : tensor([-0.3397], grad_fn=<SelectBackward>)\n",
      "Epoch Accuracy  : 0.9432\n"
     ]
    }
   ],
   "source": [
    "params = weights, bias\n",
    "LR = 0.1\n",
    "for epoch in range(40):\n",
    "    train_epoch(linear, LR, params)\n",
    "    if epoch % 3 == 1:\n",
    "        print(\"====================================================\")\n",
    "        print(f\"Epoch           : {epoch}\")\n",
    "        print(f\"weights[0]      : {weights[300]}\")\n",
    "        print(f\"Epoch Accuracy  : {validate_epoch(linear)}\")"
   ]
  },
  {
   "cell_type": "code",
   "execution_count": null,
   "metadata": {},
   "outputs": [],
   "source": []
  }
 ],
 "metadata": {
  "kernelspec": {
   "display_name": "Python 3",
   "language": "python",
   "name": "python3"
  },
  "language_info": {
   "codemirror_mode": {
    "name": "ipython",
    "version": 3
   },
   "file_extension": ".py",
   "mimetype": "text/x-python",
   "name": "python",
   "nbconvert_exporter": "python",
   "pygments_lexer": "ipython3",
   "version": "3.6.8"
  }
 },
 "nbformat": 4,
 "nbformat_minor": 4
}
