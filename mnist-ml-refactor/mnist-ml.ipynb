{
 "cells": [
  {
   "cell_type": "code",
   "execution_count": 1,
   "metadata": {},
   "outputs": [
    {
     "name": "stdout",
     "output_type": "stream",
     "text": [
      "Requirement already satisfied: torch in /usr/local/lib/python3.6/dist-packages (1.1.0)\n",
      "Requirement already satisfied: torchvision in /usr/local/lib/python3.6/dist-packages (0.4.0a0+d31eafa)\n",
      "Requirement already satisfied: pillow in /usr/local/lib/python3.6/dist-packages (6.1.0)\n",
      "Requirement already satisfied: numpy in /usr/local/lib/python3.6/dist-packages (from torch) (1.17.0)\n",
      "Requirement already satisfied: six in /usr/local/lib/python3.6/dist-packages (from torchvision) (1.12.0)\n",
      "\u001b[33mWARNING: You are using pip version 19.2.1, however version 20.2.4 is available.\n",
      "You should consider upgrading via the 'pip install --upgrade pip' command.\u001b[0m\n"
     ]
    }
   ],
   "source": [
    "import sys\n",
    "!{sys.executable} -m pip install torch torchvision pillow"
   ]
  },
  {
   "cell_type": "code",
   "execution_count": 2,
   "metadata": {},
   "outputs": [],
   "source": [
    "from torchvision import datasets, transforms\n",
    "import torch\n",
    "import PIL"
   ]
  },
  {
   "cell_type": "code",
   "execution_count": 3,
   "metadata": {},
   "outputs": [],
   "source": [
    "IMG_SIZE = 28 * 28\n",
    "IS_3 = 0.\n",
    "IS_7 = 1."
   ]
  },
  {
   "cell_type": "code",
   "execution_count": 4,
   "metadata": {},
   "outputs": [],
   "source": [
    "# download and reference dataset\n",
    "mnist_train = datasets.MNIST(download=True, root=\"storage\", train=True)\n",
    "mnist_valid = datasets.MNIST(download=True, root=\"storage\", train=False)"
   ]
  },
  {
   "cell_type": "code",
   "execution_count": 5,
   "metadata": {},
   "outputs": [
    {
     "data": {
      "text/plain": [
       "(12396, 2038)"
      ]
     },
     "execution_count": 5,
     "metadata": {},
     "output_type": "execute_result"
    }
   ],
   "source": [
    "threes_or_sevens_train = [x for x in mnist_train if x[1]==3 or x[1]==7]\n",
    "threes_or_sevens_valid = [x for x in mnist_valid if x[1]==3 or x[1]==7]\n",
    "\n",
    "len(threes_or_sevens_train), len(threes_or_sevens_valid)"
   ]
  },
  {
   "cell_type": "code",
   "execution_count": 6,
   "metadata": {},
   "outputs": [
    {
     "data": {
      "text/plain": [
       "(torch.Size([12396, 784]), torch.Size([2038, 784]))"
      ]
     },
     "execution_count": 6,
     "metadata": {},
     "output_type": "execute_result"
    }
   ],
   "source": [
    "x_train = torch.stack([transforms.ToTensor()(d[0])for d in threes_or_sevens_train]).view(-1, IMG_SIZE)\n",
    "x_valid = torch.stack([transforms.ToTensor()(d[0]) for d in threes_or_sevens_valid]).view(-1, IMG_SIZE)\n",
    "\n",
    "x_train.shape, x_valid.shape"
   ]
  },
  {
   "cell_type": "code",
   "execution_count": 7,
   "metadata": {},
   "outputs": [
    {
     "data": {
      "text/plain": [
       "(torch.Size([12396, 1]), tensor([1.]), tensor([0.]), torch.Size([2038, 1]))"
      ]
     },
     "execution_count": 7,
     "metadata": {},
     "output_type": "execute_result"
    }
   ],
   "source": [
    "y_train = torch.tensor([IS_3 if d[1] == 3 else IS_7 for d in threes_or_sevens_train]).unsqueeze(1)\n",
    "y_valid = torch.tensor([IS_3 if d[1] == 3 else IS_7 for d in threes_or_sevens_valid]).unsqueeze(1)\n",
    "\n",
    "y_train.shape, y_train[3], y_train[0], y_valid.shape"
   ]
  },
  {
   "cell_type": "code",
   "execution_count": 8,
   "metadata": {},
   "outputs": [
    {
     "data": {
      "text/plain": [
       "(torch.Size([784]), tensor([0.]), torch.Size([784]), tensor([1.]))"
      ]
     },
     "execution_count": 8,
     "metadata": {},
     "output_type": "execute_result"
    }
   ],
   "source": [
    "# ds is our Dataset, list of (image, value) tuples\n",
    "train_ds = list(zip(x_train, y_train))\n",
    "valid_ds = list(zip(x_valid, y_valid))\n",
    "\n",
    "train_ds[0][0].shape, train_ds[0][1], valid_ds[0][0].shape, valid_ds[0][1]"
   ]
  },
  {
   "cell_type": "code",
   "execution_count": 9,
   "metadata": {},
   "outputs": [
    {
     "data": {
      "text/plain": [
       "(torch.Size([784]), tensor([0.]), torch.Size([784]), tensor([1.]))"
      ]
     },
     "execution_count": 9,
     "metadata": {},
     "output_type": "execute_result"
    }
   ],
   "source": [
    "# Create the DataLoaders\n",
    "train_dl = torch.utils.data.DataLoader(train_ds, batch_size=256)\n",
    "valid_dl = torch.utils.data.DataLoader(valid_ds, batch_size=256)\n",
    "\n",
    "train_dl.dataset[0][0].shape, train_dl.dataset[0][1], valid_dl.dataset[0][0].shape, valid_dl.dataset[0][1]"
   ]
  },
  {
   "cell_type": "code",
   "execution_count": 10,
   "metadata": {},
   "outputs": [],
   "source": [
    "# create simple ReLU model\n",
    "net = torch.nn.Sequential(\n",
    "    torch.nn.Linear(IMG_SIZE, 30),\n",
    "    torch.nn.ReLU(),\n",
    "    torch.nn.Linear(30, 1)\n",
    ")"
   ]
  },
  {
   "cell_type": "code",
   "execution_count": 11,
   "metadata": {},
   "outputs": [],
   "source": [
    "LR = 0.1\n",
    "optimizer = torch.optim.SGD(net.parameters(), LR)"
   ]
  },
  {
   "cell_type": "code",
   "execution_count": 12,
   "metadata": {},
   "outputs": [],
   "source": [
    "def get_loss(predictions, targets):\n",
    "    predictions = predictions.sigmoid()\n",
    "    return torch.where(targets==1, 1-predictions, predictions).mean()"
   ]
  },
  {
   "cell_type": "code",
   "execution_count": 13,
   "metadata": {},
   "outputs": [],
   "source": [
    "def calc_gradient(xb, yb, model):\n",
    "    predictions = model(xb)\n",
    "    loss = get_loss(predictions, yb)\n",
    "    loss.backward()"
   ]
  },
  {
   "cell_type": "code",
   "execution_count": 14,
   "metadata": {},
   "outputs": [],
   "source": [
    "def train_epoch(model):\n",
    "    # Iterate over dataset batches\n",
    "    # xb is a tensor with the independent variables for the batch (tensor of pixel values)\n",
    "    # yb         \"\"           dependent             \"\"            (which digit it is)\n",
    "    for xb, yb in train_dl:\n",
    "        calc_gradient(xb, yb, model)\n",
    "        optimizer.step()\n",
    "        optimizer.zero_grad()"
   ]
  },
  {
   "cell_type": "code",
   "execution_count": 15,
   "metadata": {},
   "outputs": [],
   "source": [
    "def batch_accuracy(xb, yb):\n",
    "    preds = xb.sigmoid()\n",
    "    correct = (preds>0.5).float() == yb\n",
    "    return correct.float().mean()"
   ]
  },
  {
   "cell_type": "code",
   "execution_count": 16,
   "metadata": {},
   "outputs": [],
   "source": [
    "def validate_epoch(model):\n",
    "    accuracy = [batch_accuracy(model(xb), yb) for xb, yb in valid_dl]\n",
    "    return round(torch.stack(accuracy).mean().item(), 4)"
   ]
  },
  {
   "cell_type": "code",
   "execution_count": 17,
   "metadata": {},
   "outputs": [
    {
     "name": "stdout",
     "output_type": "stream",
     "text": [
      "Epoch Accuracy  : 0.5045\n",
      "====================================================\n",
      "Epoch           : 0\n",
      "Epoch Accuracy  : 0.9661\n",
      "Epoch Accuracy  : 0.9661\n",
      "====================================================\n",
      "Epoch           : 1\n",
      "Epoch Accuracy  : 0.9691\n",
      "Epoch Accuracy  : 0.9691\n",
      "====================================================\n",
      "Epoch           : 2\n",
      "Epoch Accuracy  : 0.9706\n",
      "Epoch Accuracy  : 0.9706\n",
      "====================================================\n",
      "Epoch           : 3\n",
      "Epoch Accuracy  : 0.9711\n",
      "Epoch Accuracy  : 0.9711\n",
      "====================================================\n",
      "Epoch           : 4\n",
      "Epoch Accuracy  : 0.9725\n",
      "Epoch Accuracy  : 0.9725\n",
      "====================================================\n",
      "Epoch           : 5\n",
      "Epoch Accuracy  : 0.9735\n",
      "Epoch Accuracy  : 0.9735\n",
      "====================================================\n",
      "Epoch           : 6\n",
      "Epoch Accuracy  : 0.9745\n",
      "Epoch Accuracy  : 0.9745\n",
      "====================================================\n",
      "Epoch           : 7\n",
      "Epoch Accuracy  : 0.9745\n",
      "Epoch Accuracy  : 0.9745\n",
      "====================================================\n",
      "Epoch           : 8\n",
      "Epoch Accuracy  : 0.976\n",
      "Epoch Accuracy  : 0.976\n",
      "====================================================\n",
      "Epoch           : 9\n",
      "Epoch Accuracy  : 0.976\n",
      "Epoch Accuracy  : 0.976\n",
      "====================================================\n",
      "Epoch           : 10\n",
      "Epoch Accuracy  : 0.9764\n",
      "Epoch Accuracy  : 0.9764\n",
      "====================================================\n",
      "Epoch           : 11\n",
      "Epoch Accuracy  : 0.9774\n",
      "Epoch Accuracy  : 0.9774\n",
      "====================================================\n",
      "Epoch           : 12\n",
      "Epoch Accuracy  : 0.9779\n",
      "Epoch Accuracy  : 0.9779\n",
      "====================================================\n",
      "Epoch           : 13\n",
      "Epoch Accuracy  : 0.9779\n",
      "Epoch Accuracy  : 0.9779\n",
      "====================================================\n",
      "Epoch           : 14\n",
      "Epoch Accuracy  : 0.9779\n",
      "Epoch Accuracy  : 0.9779\n",
      "====================================================\n",
      "Epoch           : 15\n",
      "Epoch Accuracy  : 0.9784\n",
      "Epoch Accuracy  : 0.9784\n",
      "====================================================\n",
      "Epoch           : 16\n",
      "Epoch Accuracy  : 0.9784\n",
      "Epoch Accuracy  : 0.9784\n",
      "====================================================\n",
      "Epoch           : 17\n",
      "Epoch Accuracy  : 0.9779\n",
      "Epoch Accuracy  : 0.9779\n",
      "====================================================\n",
      "Epoch           : 18\n",
      "Epoch Accuracy  : 0.9784\n",
      "Epoch Accuracy  : 0.9784\n",
      "====================================================\n",
      "Epoch           : 19\n",
      "Epoch Accuracy  : 0.9784\n",
      "Epoch Accuracy  : 0.9784\n",
      "====================================================\n",
      "Epoch           : 20\n",
      "Epoch Accuracy  : 0.9779\n",
      "Epoch Accuracy  : 0.9779\n",
      "====================================================\n",
      "Epoch           : 21\n",
      "Epoch Accuracy  : 0.9779\n",
      "Epoch Accuracy  : 0.9779\n",
      "====================================================\n",
      "Epoch           : 22\n",
      "Epoch Accuracy  : 0.9779\n",
      "Epoch Accuracy  : 0.9779\n",
      "====================================================\n",
      "Epoch           : 23\n",
      "Epoch Accuracy  : 0.9784\n",
      "Epoch Accuracy  : 0.9784\n",
      "====================================================\n",
      "Epoch           : 24\n",
      "Epoch Accuracy  : 0.9784\n",
      "Epoch Accuracy  : 0.9784\n",
      "====================================================\n",
      "Epoch           : 25\n",
      "Epoch Accuracy  : 0.9784\n",
      "Epoch Accuracy  : 0.9784\n",
      "====================================================\n",
      "Epoch           : 26\n",
      "Epoch Accuracy  : 0.9784\n",
      "Epoch Accuracy  : 0.9784\n",
      "====================================================\n",
      "Epoch           : 27\n",
      "Epoch Accuracy  : 0.9784\n",
      "Epoch Accuracy  : 0.9784\n",
      "====================================================\n",
      "Epoch           : 28\n",
      "Epoch Accuracy  : 0.9794\n",
      "Epoch Accuracy  : 0.9794\n",
      "====================================================\n",
      "Epoch           : 29\n",
      "Epoch Accuracy  : 0.9799\n",
      "Epoch Accuracy  : 0.9799\n",
      "====================================================\n",
      "Epoch           : 30\n",
      "Epoch Accuracy  : 0.9799\n",
      "Epoch Accuracy  : 0.9799\n",
      "====================================================\n",
      "Epoch           : 31\n",
      "Epoch Accuracy  : 0.9804\n",
      "Epoch Accuracy  : 0.9804\n",
      "====================================================\n",
      "Epoch           : 32\n",
      "Epoch Accuracy  : 0.9809\n",
      "Epoch Accuracy  : 0.9809\n",
      "====================================================\n",
      "Epoch           : 33\n",
      "Epoch Accuracy  : 0.9819\n",
      "Epoch Accuracy  : 0.9819\n",
      "====================================================\n",
      "Epoch           : 34\n",
      "Epoch Accuracy  : 0.9819\n",
      "Epoch Accuracy  : 0.9819\n",
      "====================================================\n",
      "Epoch           : 35\n",
      "Epoch Accuracy  : 0.9819\n",
      "Epoch Accuracy  : 0.9819\n",
      "====================================================\n",
      "Epoch           : 36\n",
      "Epoch Accuracy  : 0.9819\n",
      "Epoch Accuracy  : 0.9819\n",
      "====================================================\n",
      "Epoch           : 37\n",
      "Epoch Accuracy  : 0.9819\n",
      "Epoch Accuracy  : 0.9819\n",
      "====================================================\n",
      "Epoch           : 38\n",
      "Epoch Accuracy  : 0.9824\n",
      "Epoch Accuracy  : 0.9824\n",
      "====================================================\n",
      "Epoch           : 39\n",
      "Epoch Accuracy  : 0.9824\n"
     ]
    }
   ],
   "source": [
    "for epoch in range(40):\n",
    "    print(f\"Epoch Accuracy  : {validate_epoch(net)}\")\n",
    "    train_epoch(net) # or linear\n",
    "    print(\"====================================================\")\n",
    "    print(f\"Epoch           : {epoch}\")\n",
    "    print(f\"Epoch Accuracy  : {validate_epoch(net)}\")"
   ]
  },
  {
   "cell_type": "code",
   "execution_count": null,
   "metadata": {},
   "outputs": [],
   "source": []
  }
 ],
 "metadata": {
  "kernelspec": {
   "display_name": "Python 3",
   "language": "python",
   "name": "python3"
  },
  "language_info": {
   "codemirror_mode": {
    "name": "ipython",
    "version": 3
   },
   "file_extension": ".py",
   "mimetype": "text/x-python",
   "name": "python",
   "nbconvert_exporter": "python",
   "pygments_lexer": "ipython3",
   "version": "3.6.8"
  }
 },
 "nbformat": 4,
 "nbformat_minor": 4
}
